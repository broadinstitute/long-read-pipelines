{
 "cells": [
  {
   "cell_type": "code",
   "execution_count": null,
   "metadata": {
    "collapsed": false,
    "editable": true,
    "slideshow": {
     "slide_type": ""
    },
    "tags": [
     "parameters"
    ]
   },
   "outputs": [],
   "source": [
    "# Papermill Parameters\n",
    "reference_in = \"GRCh38\"\n",
    "callers_in = \"sniffles,pbsv\""
   ]
  },
  {
   "cell_type": "code",
   "execution_count": null,
   "metadata": {
    "collapsed": false,
    "editable": true,
    "slideshow": {
     "slide_type": ""
    },
    "tags": []
   },
   "outputs": [],
   "source": [
    "# run at startup\n",
    "library(ggplot2)\n",
    "library(dplyr)\n",
    "library(ggbeeswarm)\n",
    "\n",
    "options(scipen=999)\n",
    "#By setting this option to \"image/svg+xml\", R will attempt to generate plots in SVG format when displayed in a Jupyter Notebook environment, if possible. This format can\n",
    "#be beneficial for plots as it allows for scalability and interactive features within the notebook. However, it does not work well with papermill, so we will leave it\n",
    "#options(jupyter.plot_mimetypes = \"image/svg+xml\")\n",
    "\n",
    "ref<-reference_in\n",
    "callers<-unlist(strsplit(callers_in, \",\")) # Split string to array"
   ]
  },
  {
   "cell_type": "code",
   "execution_count": null,
   "metadata": {},
   "outputs": [],
   "source": [
    "# Print the current working directory\n",
    "cat(\"Current working directory:\\n\")\n",
    "cat(getwd(), \"\\n\")\n",
    "\n",
    "# List files in the 'ref' directory\n",
    "ref_dir <- sprintf(\"%s/\", ref)\n",
    "cat(\"Files in the 'ref' directory:\\n\")\n",
    "dir(ref_dir)"
   ]
  },
  {
   "cell_type": "markdown",
   "metadata": {},
   "source": [
    "# SV lengths"
   ]
  },
  {
   "cell_type": "code",
   "execution_count": null,
   "metadata": {
    "code_folding": [
     1
    ]
   },
   "outputs": [],
   "source": [
    "# Import and format data - slow, importing SVs from a LOT of samples\n",
    "import_len_stats <- function(filename) {\n",
    "    a <- read.table(filename)\n",
    "    colnames(a) <- c('svtype', 'length')\n",
    "    a$length <- abs(a$length)\n",
    "    return(a)\n",
    "}\n",
    "# Create an empty list to store data frames\n",
    "array_of_callers_dfs <- list()\n",
    "\n",
    "# Loop through each variant caller to import data and store in the list\n",
    "for (caller in callers) {\n",
    "    filename <- sprintf(\"%s/%s_all_SV_lengths_by_type.txt\", ref, caller)\n",
    "    df <- import_len_stats(filename)\n",
    "    df$caller <- caller\n",
    "    array_of_callers_dfs[[caller]] <- df\n",
    "}"
   ]
  },
  {
   "cell_type": "code",
   "execution_count": null,
   "metadata": {},
   "outputs": [],
   "source": [
    "# prepare data for the binning plot (separated because it's slow)\n",
    "\n",
    "# \"cut3\" is much faster than default cut, from https://stackoverflow.com/questions/21775556/getting-same-output-as-cut-using-speedier-hist-or-findinterval\n",
    "cut3 <- function(x, breaks, labels) {\n",
    "  out <- .bincode(x, breaks)\n",
    "  attr(out, \"levels\") <- labels\n",
    "  class(out) <- \"factor\"\n",
    "  out\n",
    "}\n",
    "\n",
    "bin_indels <- function(SVs) {\n",
    "    SVs.indel <- SVs[which(SVs$svtype=='DEL'| SVs$svtype=='INS' | SVs$svtype=='DUP'),]\n",
    "    SVs.indel$bins<-cut3(SVs.indel$length, breaks=c(50,100,500,1000,5000,10000,50000,100000,500000,1000000), labels=c('50-100bp','100-500bp','500bp-1kb','1-5kb','5-10kb','10-50kb','50-100kb','100-500kb','500kb-1Mb'))\n",
    "    return(SVs.indel)\n",
    "}\n",
    "\n",
    "# extract indels and bin them\n",
    "all.indel <- data.frame()  # Create an empty data frame to store the combined data\n",
    "c(\"started binning\")\n",
    "for (caller_name in names(array_of_callers_dfs)) {\n",
    "  current_caller <- array_of_callers_dfs[[caller_name]]\n",
    "  indel_name <- paste0(caller_name, \".indel\")\n",
    "  assigned_bins <- bin_indels(current_caller)\n",
    "  assign(indel_name, assigned_bins)\n",
    "  all.indel <- rbind(all.indel, assigned_bins)  # Combine binned data frames row-wise\n",
    "}\n",
    "c(\"finished binning\")\n",
    "\n",
    "all.indel$caller <- factor(all.indel$caller, levels = unique(names(array_of_callers_dfs)))  # Set 'caller' column as a factor with unique levels\n",
    "all.indel.complete <- na.omit(all.indel)  # Remove rows with NA values\n"
   ]
  },
  {
   "cell_type": "markdown",
   "metadata": {},
   "source": [
    "    # Define plotting functions"
   ]
  },
  {
   "cell_type": "code",
   "execution_count": null,
   "metadata": {
    "code_folding": []
   },
   "outputs": [],
   "source": [
    "# Function to plot single size distribution\n",
    "# Adapted from GATK-SV\n",
    "plotSizeDistribRaw <- function(dat, svtypes, n.breaks=150, k=10,\n",
    "                            min.size=50, max.size=1000000,\n",
    "                            autosomal=F, biallelic=F,\n",
    "                            title=NULL, legend=F, lwd.cex=1, text.cex=1){\n",
    "\n",
    "  svtypes <- data.frame('svtype'=c(\"DEL\",\"DUP\",\"CNV\",\"INS\",\"INV\",\"CPX\",\"OTH\"), 'color'=c(\"#D43925\",\"#2376B2\",\"#7459B2\",\"#D474E0\",\"#FA931E\",\"#71E38C\",\"#397246\"))\n",
    "\n",
    "  #Filter/process sizes & compute range + breaks\n",
    "  filter.legend <- NULL\n",
    "  sizes <- log10(dat$length)\n",
    "  if(length(sizes)>0){\n",
    "    xlims <- range(sizes[which(!is.infinite(sizes))],na.rm=T)\n",
    "    xlims[1] <- max(c(log10(min.size),xlims[1]))\n",
    "    xlims[2] <- min(c(log10(max.size),xlims[2]))\n",
    "    breaks <- seq(xlims[1],xlims[2],by=(xlims[2]-xlims[1])/n.breaks)\n",
    "    mids <- (breaks[1:(length(breaks)-1)]+breaks[2:length(breaks)])/2\n",
    "    \n",
    "    #Gather size densities per class\n",
    "    dens <- lapply(svtypes$svtype,function(svtype){\n",
    "      vals <- sizes[which(dat$svtype==svtype)]\n",
    "      h <- hist(vals[which(!is.infinite(vals) & vals>=xlims[1] & vals<=xlims[2])],plot=F,breaks=breaks)\n",
    "      h$counts[1] <- h$counts[1]+length(which(!is.infinite(vals) & vals<xlims[1]))\n",
    "      h$counts[length(h$counts)] <- h$counts[length(h$counts)]+length(which(!is.infinite(vals) & vals>xlims[2]))\n",
    "      return(h$counts/length(vals))\n",
    "    })\n",
    "    names(dens) <- svtypes$svtype\n",
    "    all.vals <- sizes[which(!is.infinite(sizes) & sizes>=xlims[1] & sizes<=xlims[2])]\n",
    "    all.h <- hist(all.vals,plot=F,breaks=breaks)\n",
    "    dens$ALL <- as.numeric(all.h$counts/length(all.vals))\n",
    "    \n",
    "    #Prepare plot area\n",
    "    ylims <- c(0,quantile(unlist(dens),probs=0.99,na.rm=T))\n",
    "    dens <- lapply(dens,function(vals){\n",
    "      vals[which(vals>max(ylims))] <- max(ylims)\n",
    "      return(vals)\n",
    "    })\n",
    "    par(bty=\"n\",mar=c(3.5,3.5,3,0.5))\n",
    "    plot(x=xlims,y=ylims,type=\"n\",\n",
    "         xaxt=\"n\",yaxt=\"n\",xlab=\"\",ylab=\"\",yaxs=\"i\")\n",
    "    \n",
    "    #Add vertical gridlines\n",
    "    logscale.all <- log10(as.numeric(sapply(0:8,function(i){(1:9)*10^i})))\n",
    "    logscale.minor <- log10(as.numeric(sapply(0:8,function(i){c(5,10)*10^i})))\n",
    "    logscale.minor.labs <- as.character(sapply(c(\"bp\",\"kb\",\"Mb\"),function(suf){paste(c(1,5,10,50,100,500),suf,sep=\"\")}))\n",
    "    logscale.minor.labs <- c(logscale.minor.labs[-1],\"1Gb\")\n",
    "    logscale.major <- log10(as.numeric(10^(0:8)))\n",
    "    abline(v=logscale.all,col=\"gray97\")\n",
    "    abline(v=logscale.minor,col=\"gray92\")\n",
    "    abline(v=logscale.major,col=\"gray85\")\n",
    "    \n",
    "    #Add axes, title, and Alu/SVA/L1 ticks\n",
    "    axis(1,at=logscale.all,tck=-0.015,col=\"gray50\",labels=NA)\n",
    "    axis(1,at=logscale.minor,tck=-0.0225,col=\"gray20\",labels=NA)\n",
    "    axis(1,at=logscale.major,tck=-0.03,labels=NA)\n",
    "    axis(1,at=logscale.minor,tick=F,cex.axis=0.8,line=-0.4,las=2,\n",
    "         labels=logscale.minor.labs)\n",
    "    mtext(1,text=\"Size\",line=2.25,cex=text.cex)\n",
    "    axis(2,at=axTicks(2),tck=-0.025,labels=NA)\n",
    "    axis(2,at=axTicks(2),tick=F,line=-0.4,cex.axis=0.8,las=2,\n",
    "         labels=paste(round(100*axTicks(2),1),\"%\",sep=\"\"))\n",
    "    mtext(2,text=\"Fraction of SV\",line=2,cex=text.cex)\n",
    "    sapply(1:2,function(i){\n",
    "      axis(3,at=log10(c(300,6000))[i],labels=NA,tck=-0.01)\n",
    "      axis(3,at=log10(c(300,6000))[i],tick=F,line=-0.9,cex.axis=0.8,\n",
    "           labels=c(\"Alu\",\"L1\")[i],font=3)\n",
    "    })\n",
    "    axis(3,at=log10(c(1000,2000)),labels=NA,tck=-0.01)\n",
    "    axis(3,at=mean(log10(c(1000,2000))),tick=F,line=-0.9,cex.axis=0.8,labels=\"SVA\",font=3)\n",
    "    mtext(3,line=1.5,text=title,font=2,cex=text.cex)\n",
    "    \n",
    "    #Add points per SV type\n",
    "    sapply(1:length(dens),function(i){\n",
    "      svtype <- names(dens)[i]\n",
    "      if(svtype==\"ALL\"){\n",
    "        color <- \"gray15\"\n",
    "        lwd <- 3\n",
    "      }else if (svtype==\"INS\" | svtype==\"DEL\") {\n",
    "        color <- svtypes[which(svtypes$svtype==svtype),2]\n",
    "        lwd <- 2\n",
    "      }else {\n",
    "        color <- svtypes[which(svtypes$svtype==svtype),2]\n",
    "        lwd <- 0.75\n",
    "      }\n",
    "      #Points per individual bin\n",
    "      points(x=mids,y=dens[[i]],pch=19,cex=0.25,col=color)\n",
    "      lines(x=mids,y=dens[[i]],col=color,lwd=lwd.cex*lwd)\n",
    "    })\n",
    "    \n",
    "    #Add sv type legend\n",
    "    if(legend==T){\n",
    "      idx.for.legend <- which(unlist(lapply(dens,function(vals){any(!is.na(vals) & !is.infinite(vals) & vals>0)})))\n",
    "      legend(\"right\",bg=NA,bty=\"n\",pch=NA,cex=text.cex*0.7,lwd=3,\n",
    "             legend=paste(rbind(svtypes, c(\"ALL\",\"gray15\"))$svtype[idx.for.legend], sep=\"\"),\n",
    "             col=rbind(svtypes,c(\"ALL\",\"gray15\"))$color[idx.for.legend])\n",
    "    }\n",
    "  }else{\n",
    "    par(bty=\"n\",mar=c(3.5,3.5,3,0.5))\n",
    "    plot(x=c(0,1),y=c(0,1),type=\"n\",\n",
    "         xaxt=\"n\",yaxt=\"n\",xlab=\"\",ylab=\"\",yaxs=\"i\")\n",
    "    text(x=0.5,y=0.5,labels=\"No Data\")\n",
    "    mtext(3,line=1.5,text=title,font=2,cex=text.cex)\n",
    "  }\n",
    "  \n",
    "  #Add number of SV to plot\n",
    "  axis(3,at=par(\"usr\")[2],line=-0.9,hadj=1,tick=F,\n",
    "       labels=paste(\"n=\",prettyNum(length(sizes),big.mark=\",\"),sep=\"\"))\n",
    "  \n",
    "  #Add filter labels\n",
    "  if(!is.null(filter.legend)){\n",
    "    legend(\"topright\",bg=NA,bty=\"n\",pch=NA,legend=filter.legend,cex=text.cex)\n",
    "  }\n",
    "}"
   ]
  },
  {
   "cell_type": "code",
   "execution_count": null,
   "metadata": {
    "code_folding": []
   },
   "outputs": [],
   "source": [
    "# plot SV types by BINNED length\n",
    "plot_SV_types_by_binned_length_alldata <- function(all.indel.complete) {\n",
    "  svtypes <- c(\"DEL\"=\"#D43925\",\"DUP\"=\"#2376B2\",\"CNV\"=\"#7459B2\",\"INS\"=\"#D474E0\",\"INV\"=\"#FA931E\",\"CPX\"=\"#71E38C\",\"OTH\"=\"#397246\")\n",
    "\n",
    "  ggplot(data=all.indel.complete, aes(x=bins)) + \n",
    "    geom_bar(aes(fill=svtype), position=\"fill\") + \n",
    "    scale_fill_manual(values=svtypes) + \n",
    "    theme(axis.text.x = element_text(angle=45, margin=margin(t = .6, unit = \"cm\"))) + \n",
    "    facet_wrap(~caller,ncol=1) +\n",
    "    ylab(\"Fraction of SVs (limited to DEL, DUP, INS)\") +\n",
    "    xlab(\"SV length\")\n",
    "}"
   ]
  },
  {
   "cell_type": "markdown",
   "metadata": {},
   "source": [
    "# Plot BINNED lengths"
   ]
  },
  {
   "cell_type": "code",
   "execution_count": null,
   "metadata": {},
   "outputs": [],
   "source": [
    "# plot SV types by BINNED length \n",
    "options(repr.plot.width=8, repr.plot.height=10)\n",
    "plot_SV_types_by_binned_length_alldata(all.indel.complete)"
   ]
  },
  {
   "cell_type": "code",
   "execution_count": null,
   "metadata": {},
   "outputs": [],
   "source": [
    "# plot SV types by BINNED length to PDF\n",
    "pdf(sprintf(\"SVtype_by_len_bins.%s.pdf\",ref),height=8,width=10)\n",
    "plot_SV_types_by_binned_length_alldata(all.indel.complete)\n",
    "dev.off()"
   ]
  },
  {
   "cell_type": "markdown",
   "metadata": {},
   "source": [
    "# Plot length distributions"
   ]
  },
  {
   "cell_type": "code",
   "execution_count": null,
   "metadata": {},
   "outputs": [],
   "source": [
    "# plot SV length distributions to SCREEN\n",
    "options(repr.plot.width=10, repr.plot.height=6)\n",
    "\n",
    "for (caller_name in names(array_of_callers_dfs)) {\n",
    "    current_caller <- array_of_callers_dfs[[caller_name]]\n",
    "    plotSizeDistribRaw(current_caller, svtypes, legend=T, title=caller_name)\n",
    "}"
   ]
  },
  {
   "cell_type": "code",
   "execution_count": null,
   "metadata": {},
   "outputs": [],
   "source": [
    "# plot SV length distributions to PDF\n",
    "for (caller_name in names(array_of_callers_dfs)) {\n",
    "    current_caller <- array_of_callers_dfs[[caller_name]]\n",
    "    pdf(sprintf(\"%s_all_size_distrib.%s.pdf\",caller_name, ref),height=4,width=12)\n",
    "    plotSizeDistribRaw(current_caller, svtypes, legend=T)\n",
    "    dev.off()\n",
    "}"
   ]
  },
  {
   "cell_type": "markdown",
   "metadata": {},
   "source": [
    "# SVs per sample"
   ]
  },
  {
   "cell_type": "code",
   "execution_count": null,
   "metadata": {},
   "outputs": [],
   "source": [
    "\n",
    "all_stats <- data.frame()  # Create an empty data frame to store the combined stats data  \n",
    "for (caller_name in names(array_of_callers_dfs)) {\n",
    "    current_caller <- array_of_callers_dfs[[caller_name]]\n",
    "\n",
    "    # import and format data\n",
    "    caller_stats<-read.table(sprintf(\"%s/%s_all_sample_stats_with_cov.txt\", ref, caller_name),header=T,row.names=1)\n",
    "    caller_stats$caller <- caller_name\n",
    "    all_stats<-rbind(all_stats, caller_stats)\n",
    "}\n",
    "\n",
    "all_stats$caller<-factor(all_stats$caller, levels=unique(names(array_of_callers_dfs)))\n",
    "\n",
    "# format data for plotting by SV type \n",
    "\n",
    "sv_types <- c(\"DEL\", \"INS\", \"DUP\", \"INV\", \"CNV\", \"OTH\") # Define SV types\n",
    "formatted_data <- list() # Empty list to store formatted data frames\n",
    "\n",
    "for (sv_type in sv_types) {\n",
    "  subset_data <- subset(all_stats, select = c(\"COV\", sv_type, \"caller\"))\n",
    "  colnames(subset_data) <- c(\"COV\", \"num\", \"caller\")\n",
    "  subset_data$svtype <- sv_type\n",
    "  formatted_data[[sv_type]] <- subset_data\n",
    "}\n",
    "# Combine formatted data frames into a single data frame\n",
    "final_data <- do.call(rbind, formatted_data)\n",
    "\n",
    "all_stats_transposed <- final_data\n",
    "all_stats_transposed$svtype<-factor(all_stats_transposed$svtype, levels=sv_types)\n",
    "all_stats_transposed$caller<-factor(all_stats_transposed$caller, levels=callers)\n"
   ]
  },
  {
   "cell_type": "code",
   "execution_count": null,
   "metadata": {
    "code_folding": [
     1
    ]
   },
   "outputs": [],
   "source": [
    "# Plot num SVs per sample as 'beeswarm'\n",
    "plot_SVs_per_sample_beeswarm <- function(stats) {\n",
    "  require(ggplot2)\n",
    "  require(ggbeeswarm)\n",
    "\n",
    "  # set coverage bins\n",
    "  stats$covbin = NA\n",
    "  \n",
    "  # Define the conditions and corresponding bin labels\n",
    "  conditions <- list(\n",
    "    list(condition = is.na(stats$COV), bin_label = \"NA\"),\n",
    "    list(condition = !is.na(stats$COV) & stats$COV < 6, bin_label = \"<6x\"),\n",
    "    list(condition = !is.na(stats$COV) & stats$COV >= 6 & stats$COV < 7, bin_label = \"6-7x\"),\n",
    "    list(condition = !is.na(stats$COV) & stats$COV >= 7 & stats$COV < 9, bin_label = \"7-9x\"),\n",
    "    list(condition = !is.na(stats$COV) & stats$COV >= 9 & stats$COV < 10, bin_label = \"9-10x\"),\n",
    "    list(condition = !is.na(stats$COV) & stats$COV >= 10, bin_label = \">10x\")\n",
    "    \n",
    "    # Add more conditions as needed...\n",
    "  )\n",
    "  for (cond in conditions) {\n",
    "    if (any(cond$condition)) {\n",
    "      stats[cond$condition, \"covbin\"] <- cond$bin_label\n",
    "    }\n",
    "  }\n",
    "\n",
    "  stats$caller <- factor(stats$caller, levels=callers)\n",
    "  group_labels <- data.frame('caller'=levels(stats$caller))\n",
    "    \n",
    "  ggplot(stats, aes(x=caller, y=ALL)) + \n",
    "    geom_beeswarm(corral = \"random\", corral.width=0.3, method='compactswarm',\n",
    "              priority='density', size=2, aes(color=covbin)) +\n",
    "    scale_y_continuous(labels = scales::comma, limits = c(0, max(stats$ALL))) + \n",
    "    theme_bw() + \n",
    "    theme(text = element_text(size = 12),\n",
    "          panel.grid.major.x = element_blank(), panel.grid.minor.x = element_blank(), \n",
    "          panel.border = element_blank(), \n",
    "          axis.line = element_line(color = 'black'), \n",
    "          axis.title.x = element_text(vjust=-0.5)) +\n",
    "    scale_color_manual(name=\"Coverage\",\n",
    "                     values=c(\">10x\"=\"#E1000C\",\"9-10x\"=\"#F07386\",\"7-9x\"=\"#D0CDE5\",\"6-7x\"=\"#85A8D0\",\"<6x\"=\"#0A50A1\", \"NA\"=\"#D3D3D3\"),\n",
    "                     breaks=c(\">10x\",\"9-10x\",\"7-9x\",\"6-7x\",\"<6x\")) +\n",
    "    stat_summary(fun = median, fun.min = median, fun.max = median,\n",
    "                 geom = \"crossbar\", width = 0.2, col='black') +\n",
    "    stat_summary(fun = median, geom = \"text\", hjust = 0, size=10/.pt, \n",
    "                 aes(label=scales::comma(after_stat(y))), \n",
    "                 position = position_nudge(x = 0.2)) + \n",
    "    stat_summary(fun = median, fun.min = function(x){quantile(x,probs=0.25)}, fun.max = function(x){quantile(x,probs=0.75)},\n",
    "                 geom = \"linerange\", col='black') +\n",
    "  #  geom_text(aes(caller, label=caller, y=33000),data=group_labels) +\n",
    "    guides(color = guide_legend(override.aes = list(size = 6))) +\n",
    "    ylab(\"SVs per genome\")\n",
    "}"
   ]
  },
  {
   "cell_type": "code",
   "execution_count": null,
   "outputs": [],
   "source": [
    "# plot SV counts by caller to SCREEN\n",
    "options(repr.plot.width=8, repr.plot.height=8)\n",
    "plot_SVs_per_sample_beeswarm(all_stats)"
   ],
   "metadata": {
    "collapsed": false
   }
  },
  {
   "cell_type": "code",
   "execution_count": null,
   "outputs": [],
   "source": [
    "# plot SV counts by caller to PDF\n",
    "pdf(sprintf(\"SV_counts_by_caller_beeswarm.%s.pdf\",ref),height=8,width=10)\n",
    "plot_SVs_per_sample_beeswarm(all_stats)"
   ],
   "metadata": {
    "collapsed": false
   }
  },
  {
   "cell_type": "code",
   "execution_count": null,
   "metadata": {},
   "outputs": [],
   "source": [
    "# Plot num SVs per sample as violin plot (no sample-level info, probably more ok than beeswarm)\n",
    "plot_SVs_per_sample_violin <- function(stats) {\n",
    "    require(ggplot2)\n",
    "    stats$caller <- factor(stats$caller, levels=callers)\n",
    "\n",
    "    plot <- ggplot(stats, aes(x=caller, y=ALL)) +\n",
    "        geom_violin(scale=\"width\",fill=\"whitesmoke\",width=0.5) +\n",
    "        geom_boxplot(width=0.03, outlier.shape = NA, notch=TRUE, fill=\"steelblue1\") +\n",
    "        theme_bw() + \n",
    "        theme(text = element_text(size = 12),\n",
    "            panel.grid.major.x = element_blank(), panel.grid.minor.x = element_blank(), \n",
    "            panel.border = element_blank(), \n",
    "            axis.line = element_line(color = 'black'), \n",
    "            axis.title.x = element_text(vjust=-0.5)) +\n",
    "        scale_y_continuous(labels = scales::comma, limits = c(0, max(stats$ALL))) +\n",
    "        stat_summary(fun = median, geom = \"text\", hjust = 0, size=10/.pt, \n",
    "                 aes(label=scales::comma(after_stat(y))), \n",
    "                 position = position_nudge(x = 0.27)) +\n",
    "        ylab(\"Total number of SVs\")\n",
    "    print(plot)\n",
    "}"
   ]
  },
  {
   "cell_type": "code",
   "execution_count": null,
   "outputs": [],
   "source": [
    "# plot SV counts by caller to SCREEN\n",
    "options(repr.plot.width=8, repr.plot.height=8)\n",
    "plot_SVs_per_sample_violin(all_stats)"
   ],
   "metadata": {
    "collapsed": false
   }
  },
  {
   "cell_type": "code",
   "execution_count": null,
   "metadata": {},
   "outputs": [],
   "source": [
    "# plot SV counts by caller to PDF\n",
    "pdf(sprintf(\"SV_counts_by_caller_violin.%s.pdf\",ref),height=8,width=10)\n",
    "plot_SVs_per_sample_violin(all_stats)\n",
    "dev.off()"
   ]
  },
  {
   "cell_type": "markdown",
   "source": [
    "# Plot num SVs x coverage "
   ],
   "metadata": {
    "collapsed": false
   }
  },
  {
   "cell_type": "code",
   "execution_count": null,
   "outputs": [],
   "source": [
    "cors <- all_stats %>%\n",
    "  group_by(caller) %>%\n",
    "  summarize(cor=cor.test(x=COV, y=ALL)$estimate, pval=format(cor.test(x=COV, y=ALL)$p.value, scientific=TRUE, digits=1))"
   ],
   "metadata": {
    "collapsed": false
   }
  },
  {
   "cell_type": "code",
   "execution_count": null,
   "metadata": {
    "code_folding": [
     0
    ]
   },
   "outputs": [],
   "source": [
    "# Plot num SVs x coverage - this shows participant-level dot-plot, may not be allowed?\n",
    "\n",
    "library(dplyr)\n",
    "\n",
    "cors <- all_stats %>%\n",
    "  group_by(caller) %>%\n",
    "  summarize(cor=cor.test(x=COV, y=ALL)$estimate, \n",
    "            pval=format(cor.test(x=COV, y=ALL)$p.value, scientific=TRUE, digits=1))\n",
    "\n",
    "cors$caller = factor(cors$caller, levels=callers)\n",
    "cors$cor <- round(cors$cor, digits=2)\n",
    "\n",
    "#ggplot(all_stats, aes(x=jitter(cov), y=jitter(ALL))) + \n",
    "ggplot(all_stats, aes(x=COV, y=ALL)) + \n",
    "    geom_point() + geom_smooth(method='lm') + \n",
    "    geom_text(data=cors, aes(x=5, y=35000, label=paste(\"cor=\",cor,\", p-value=\",pval, sep='')), hjust=0) +\n",
    "    theme_bw() + \n",
    "    theme(text = element_text(size = 12), strip.text = element_text(size = 14),\n",
    "        panel.grid.major.x = element_blank(), panel.grid.minor.x = element_blank(), \n",
    "        axis.line = element_line(color = 'black'), \n",
    "        axis.title.x = element_text(vjust=-0.5)) +\n",
    "    scale_y_continuous(labels = scales::comma) +\n",
    "    xlab(\"coverage\") + ylab(\"Total number of SVs\") +\n",
    "    facet_wrap(~caller,ncol=1)\n"
   ]
  },
  {
   "cell_type": "code",
   "execution_count": null,
   "metadata": {
    "code_folding": [
     0
    ]
   },
   "outputs": [],
   "source": [
    "# Plot num SVs x coverage - using geom_bin2d rather than scatterplot for hiding participant-level data\n",
    "\n",
    "plot_num_SVs_by_cov_binned <- function(all_stats) {\n",
    "    require(dplyr)\n",
    "\n",
    "    cors <- all_stats %>%\n",
    "      group_by(caller) %>%\n",
    "      summarize(cor=cor.test(x=COV, y=ALL)$estimate, \n",
    "                pval=format(cor.test(x=COV, y=ALL)$p.value, scientific=TRUE, digits=1))\n",
    "\n",
    "    cors$caller = factor(cors$caller, levels=callers)\n",
    "    cors$cor <- round(cors$cor, digits=2)\n",
    "\n",
    "    ggplot(all_stats, aes(x=COV, y=ALL)) +\n",
    "        geom_bin2d(bins=c(20,5)) +\n",
    "        geom_smooth(method='lm',col='blue') + \n",
    "        scale_fill_gradient(low=\"grey90\",high=\"black\",breaks=c(50,100,150,200,250)) +\n",
    "        geom_text(data=cors, aes(x=5, y=35000, label=paste(\"cor=\",cor,\", p-value=\",pval, sep='')), hjust=0, vjust=0) +\n",
    "        theme_bw() + \n",
    "        theme(text = element_text(size = 12), strip.text = element_text(size = 14),\n",
    "            panel.grid.major.x = element_blank(), panel.grid.minor.x = element_blank(), \n",
    "            axis.line = element_line(color = 'black'), \n",
    "            axis.title.x = element_text(vjust=-0.5)) +\n",
    "        scale_y_continuous(labels = scales::comma) +\n",
    "        xlab(\"coverage\") + ylab(\"Total number of SVs\") +\n",
    "        facet_wrap(~caller,ncol=1)\n",
    "}"
   ]
  },
  {
   "cell_type": "code",
   "execution_count": null,
   "outputs": [],
   "source": [
    "# plot number of SVs by coverage to SCREEN\n",
    "options(repr.plot.width=8, repr.plot.height=8)\n",
    "plot_num_SVs_by_cov_binned(all_stats)"
   ],
   "metadata": {
    "collapsed": false
   }
  },
  {
   "cell_type": "code",
   "execution_count": null,
   "metadata": {},
   "outputs": [],
   "source": [
    "# plot number of SVs by coverage to PDF\n",
    "pdf(sprintf(\"SV_num_by_caller_and_coverage.binned.%s.pdf\",ref),height=8,width=10)\n",
    "plot_num_SVs_by_cov_binned(all_stats)\n",
    "dev.off()"
   ]
  },
  {
   "cell_type": "code",
   "execution_count": null,
   "metadata": {
    "code_folding": []
   },
   "outputs": [],
   "source": [
    "plot_numSVs_by_type_x_caller <- function(stats) {\n",
    "  require(ggplot2)\n",
    "  require(ggbeeswarm)\n",
    "  require(ggtext)\n",
    "  \n",
    "  svtypes <- c(\"DEL\"=\"#D43925\",\"INS\"=\"#D474E0\",\"DUP\"=\"#2376B2\",\"INV\"=\"#FA931E\",\"CNV\"=\"#7459B2\",\"OTH\"=\"#397246\")\n",
    "\n",
    "  ggplot(stats, aes(x=svtype, y=num)) + \n",
    "#    geom_beeswarm(corral = \"random\", corral.width=0.3, method='compactswarm',\n",
    "#              priority='density', size=2, aes(color=svtype)) +\n",
    "    scale_color_manual(name=\"SV type\",\n",
    "                       values=svtypes,\n",
    "                       breaks=names(svtypes)) +\n",
    "    scale_fill_manual(values=svtypes) +\n",
    "    geom_violin(scale=\"width\",aes(color=svtype,fill=svtype),width=0.4) +\n",
    "    geom_boxplot(width=0.1, outlier.shape = NA, notch=TRUE, fill=\"white\") +\n",
    "    scale_y_continuous(labels = scales::comma) + \n",
    "    theme_bw() + \n",
    "    theme(text = element_text(size = 12),\n",
    "          axis.text.x = element_markdown(color=unname(svtypes), face=\"bold\", angle=90, vjust = 0.5), \n",
    "          strip.text = element_text(size = 18),\n",
    "          panel.grid.major.x = element_blank(), panel.grid.minor.x = element_blank(), \n",
    "          axis.title.x = element_text(vjust=-0.5), \n",
    "          legend.position = \"none\") +\n",
    "\n",
    "#    stat_summary(fun = median, fun.min = median, fun.max = median,\n",
    "#                 geom = \"crossbar\", width = 0.2, col='black') +\n",
    "    stat_summary(fun = median, geom = \"text\", hjust = 0, size=10/.pt, \n",
    "                 aes(label=scales::comma(after_stat(y)), color=svtype), \n",
    "                 position = position_nudge(x = 0.25) ) +\n",
    "#    stat_summary(fun = median, fun.min = function(x){quantile(x,probs=0.25)}, \n",
    "#                 fun.max = function(x){quantile(x,probs=0.75)}, geom = \"linerange\", col='black') +\n",
    "    ylab(\"SVs per genome\") +\n",
    "    xlab(\"SV type\") +\n",
    "    facet_wrap(~caller,nrow=1)\n",
    "}\n"
   ]
  },
  {
   "cell_type": "code",
   "execution_count": null,
   "metadata": {
    "code_folding": []
   },
   "outputs": [],
   "source": [
    "# plot number of SVs by type x caller\n",
    "options(repr.plot.width=12, repr.plot.height=6)\n",
    "plot_numSVs_by_type_x_caller(all_stats_transposed)"
   ]
  },
  {
   "cell_type": "code",
   "execution_count": null,
   "metadata": {},
   "outputs": [],
   "source": [
    "# plot number of SVs by type x caller to PDF\n",
    "pdf(sprintf(\"SV_num_by_type_and_caller.%s.pdf\",ref),height=6,width=12)\n",
    "plot_numSVs_by_type_x_caller(all_stats_transposed)\n",
    "dev.off()"
   ]
  },
  {
   "cell_type": "code",
   "execution_count": null,
   "metadata": {
    "collapsed": false
   },
   "outputs": [],
   "source": []
  }
 ],
 "metadata": {
  "kernelspec": {
   "display_name": "R",
   "language": "R",
   "name": "ir"
  },
  "language_info": {
   "codemirror_mode": "r",
   "file_extension": ".r",
   "mimetype": "text/x-r-source",
   "name": "R",
   "pygments_lexer": "r",
   "version": "4.3.2"
  },
  "toc": {
   "base_numbering": 1,
   "nav_menu": {},
   "number_sections": true,
   "sideBar": true,
   "skip_h1_title": false,
   "title_cell": "Table of Contents",
   "title_sidebar": "Contents",
   "toc_cell": false,
   "toc_position": {},
   "toc_section_display": true,
   "toc_window_display": false
  }
 },
 "nbformat": 4,
 "nbformat_minor": 4
}
