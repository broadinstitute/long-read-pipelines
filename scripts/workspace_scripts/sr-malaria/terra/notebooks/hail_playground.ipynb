{
 "cells": [
  {
   "cell_type": "code",
   "execution_count": 1,
   "metadata": {},
   "outputs": [
    {
     "name": "stdout",
     "output_type": "stream",
     "text": [
      "Copying gs://broad-dsde-methods-long-reads/resources/references/pfalciparum3D7/PlasmoDB-46_Pfalciparum3D7_Genome.fasta...\n",
      "- [1 files][ 22.6 MiB/ 22.6 MiB]                                                \n",
      "Operation completed over 1 objects/22.6 MiB.                                     \n"
     ]
    }
   ],
   "source": [
    "!gsutil cp gs://broad-dsde-methods-long-reads/resources/references/pfalciparum3D7/PlasmoDB-46_Pfalciparum3D7_Genome.fasta .\n",
    "    "
   ]
  },
  {
   "cell_type": "code",
   "execution_count": 2,
   "metadata": {},
   "outputs": [
    {
     "name": "stdout",
     "output_type": "stream",
     "text": [
      "Copying gs://broad-dsde-methods-long-reads/resources/references/pfalciparum3D7/PlasmoDB-46_Pfalciparum3D7_Genome.fasta.fai...\n",
      "/ [1 files][  538.0 B/  538.0 B]                                                \n",
      "Operation completed over 1 objects/538.0 B.                                      \n"
     ]
    }
   ],
   "source": [
    "!gsutil cp gs://broad-dsde-methods-long-reads/resources/references/pfalciparum3D7/PlasmoDB-46_Pfalciparum3D7_Genome.fasta.fai .\n",
    "    "
   ]
  },
  {
   "cell_type": "code",
   "execution_count": 3,
   "metadata": {},
   "outputs": [
    {
     "name": "stdout",
     "output_type": "stream",
     "text": [
      "Copying gs://broad-dsde-methods-long-reads/resources/references/pfalciparum3D7/PlasmoDB-46_Pfalciparum3D7_Genome.dict...\n",
      "/ [1 files][  3.1 KiB/  3.1 KiB]                                                \n",
      "Operation completed over 1 objects/3.1 KiB.                                      \n"
     ]
    }
   ],
   "source": [
    "!gsutil cp gs://broad-dsde-methods-long-reads/resources/references/pfalciparum3D7/PlasmoDB-46_Pfalciparum3D7_Genome.dict .\n"
   ]
  },
  {
   "cell_type": "code",
   "execution_count": 1,
   "metadata": {},
   "outputs": [],
   "source": [
    "import hail as hl"
   ]
  },
  {
   "cell_type": "code",
   "execution_count": 2,
   "metadata": {},
   "outputs": [
    {
     "name": "stderr",
     "output_type": "stream",
     "text": [
      "Setting default log level to \"WARN\".\n",
      "To adjust logging level use sc.setLogLevel(newLevel). For SparkR, use setLogLevel(newLevel).\n",
      "Running on Apache Spark version 3.1.3\n",
      "SparkUI available at http://saturn-fed1bd7f-0ae1-4243-95ff-ecc259706f39-m.c.terra-66784966.internal:41627\n",
      "Welcome to\n",
      "     __  __     <>__\n",
      "    / /_/ /__  __/ /\n",
      "   / __  / _ `/ / /\n",
      "  /_/ /_/\\_,_/_/_/   version 0.2.105-acd89e80c345\n",
      "LOGGING: writing to /home/jupyter/sr-malaria/edit/hail-20221218-0426-0.2.105-acd89e80c345.log\n"
     ]
    }
   ],
   "source": [
    "hl.init(default_reference='GRCh38')"
   ]
  },
  {
   "cell_type": "code",
   "execution_count": 3,
   "metadata": {},
   "outputs": [],
   "source": [
    "pf_ref = hl.ReferenceGenome.from_fasta_file(\n",
    "    'Pf3D7',\n",
    "    'gs://broad-dsde-methods-long-reads/resources/references/pfalciparum3D7/PlasmoDB-46_Pfalciparum3D7_Genome.fasta',\n",
    "    'gs://broad-dsde-methods-long-reads/resources/references/pfalciparum3D7/PlasmoDB-46_Pfalciparum3D7_Genome.fasta.fai'\n",
    ")\n"
   ]
  },
  {
   "cell_type": "code",
   "execution_count": 4,
   "metadata": {},
   "outputs": [
    {
     "data": {
      "text/plain": [
       "ReferenceGenome(name=Pf3D7, contigs=['Pf3D7_01_v3', 'Pf3D7_02_v3', 'Pf3D7_03_v3', 'Pf3D7_04_v3', 'Pf3D7_05_v3', 'Pf3D7_06_v3', 'Pf3D7_07_v3', 'Pf3D7_08_v3', 'Pf3D7_09_v3', 'Pf3D7_10_v3', 'Pf3D7_11_v3', 'Pf3D7_12_v3', 'Pf3D7_13_v3', 'Pf3D7_14_v3', 'Pf3D7_API_v3', 'Pf_M76611'], lengths={'Pf3D7_01_v3': 640851, 'Pf3D7_02_v3': 947102, 'Pf3D7_03_v3': 1067971, 'Pf3D7_04_v3': 1200490, 'Pf3D7_05_v3': 1343557, 'Pf3D7_06_v3': 1418242, 'Pf3D7_07_v3': 1445207, 'Pf3D7_08_v3': 1472805, 'Pf3D7_09_v3': 1541735, 'Pf3D7_10_v3': 1687656, 'Pf3D7_11_v3': 2038340, 'Pf3D7_12_v3': 2271494, 'Pf3D7_13_v3': 2925236, 'Pf3D7_14_v3': 3291936, 'Pf3D7_API_v3': 34250, 'Pf_M76611': 5967}, x_contigs=[], y_contigs=[], mt_contigs=[], par=[])"
      ]
     },
     "execution_count": 4,
     "metadata": {},
     "output_type": "execute_result"
    }
   ],
   "source": [
    "pf_ref"
   ]
  },
  {
   "cell_type": "code",
   "execution_count": 5,
   "metadata": {},
   "outputs": [],
   "source": [
    "callset = hl.import_vcf(\n",
    "    'gs://fc-b06e896e-cc1d-4deb-b638-f7b87c3e5dbd/results/SRWholeGenome/QG0204-C/variants/small/QG0204-C.deepvariant.g.vcf.gz',\n",
    "    array_elements_required=False,\n",
    "    force_bgz=True,\n",
    "    reference_genome='Pf3D7'\n",
    ")\n"
   ]
  },
  {
   "cell_type": "code",
   "execution_count": 6,
   "metadata": {},
   "outputs": [
    {
     "data": {
      "text/plain": [
       "<hail.matrixtable.MatrixTable at 0x7f5b33ed6e10>"
      ]
     },
     "execution_count": 6,
     "metadata": {},
     "output_type": "execute_result"
    }
   ],
   "source": [
    "callset"
   ]
  },
  {
   "cell_type": "code",
   "execution_count": 7,
   "metadata": {},
   "outputs": [
    {
     "name": "stderr",
     "output_type": "stream",
     "text": [
      "2022-12-18 04:27:22.361 Hail: INFO: scanning VCF for sortedness...\n",
      "2022-12-18 04:27:36.930 Hail: INFO: Coerced sorted VCF - no additional import work to do\n",
      "2022-12-18 04:27:56.489 Hail: INFO: wrote matrix table with 2418070 rows and 1 column in 1 partition to test.mt\n"
     ]
    }
   ],
   "source": [
    "callset.write('test.mt')"
   ]
  },
  {
   "cell_type": "code",
   "execution_count": 10,
   "metadata": {},
   "outputs": [],
   "source": [
    "#callset.write('~{prefix}.mt', overwrite=True)"
   ]
  }
 ],
 "metadata": {
  "kernelspec": {
   "display_name": "Python 3",
   "language": "python",
   "name": "python3"
  },
  "language_info": {
   "codemirror_mode": {
    "name": "ipython",
    "version": 3
   },
   "file_extension": ".py",
   "mimetype": "text/x-python",
   "name": "python",
   "nbconvert_exporter": "python",
   "pygments_lexer": "ipython3",
   "version": "3.7.12"
  },
  "toc": {
   "base_numbering": 1,
   "nav_menu": {},
   "number_sections": true,
   "sideBar": true,
   "skip_h1_title": false,
   "title_cell": "Table of Contents",
   "title_sidebar": "Contents",
   "toc_cell": false,
   "toc_position": {},
   "toc_section_display": true,
   "toc_window_display": false
  }
 },
 "nbformat": 4,
 "nbformat_minor": 2
}
